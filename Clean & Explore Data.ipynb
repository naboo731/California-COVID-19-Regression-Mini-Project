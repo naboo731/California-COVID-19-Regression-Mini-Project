{
 "cells": [
  {
   "cell_type": "markdown",
   "id": "603b09f4",
   "metadata": {},
   "source": [
    "<h1>California COVID-19 Post Vaccination Statewide Stats</h1>"
   ]
  },
  {
   "cell_type": "markdown",
   "id": "e0cd500e",
   "metadata": {},
   "source": [
    "<h5>This dataset compares vaccinated versus unvaccinated cases, deaths, and hospitalizations for the State of California. </h5>"
   ]
  },
  {
   "cell_type": "markdown",
   "id": "312ae824",
   "metadata": {},
   "source": [
    "First, we will explore the dataset for any erroneous data that needs cleansing, provide basic statistical analysis of the data for covariance and correlational data, and develop simple visualizations such as histograms and line graphs."
   ]
  },
  {
   "cell_type": "markdown",
   "id": "dd30975a",
   "metadata": {},
   "source": [
    "_Import all necessary libraries and read in the csv file._"
   ]
  },
  {
   "cell_type": "code",
   "execution_count": 18,
   "id": "8ac4303e",
   "metadata": {},
   "outputs": [],
   "source": [
    "import pandas as pd\n",
    "import numpy as np\n",
    "import matplotlib.pyplot as plt\n",
    "import seaborn as sns\n",
    "from scipy.stats import pearsonr, spearmanr"
   ]
  },
  {
   "cell_type": "code",
   "execution_count": 19,
   "id": "72775f2b",
   "metadata": {},
   "outputs": [
    {
     "data": {
      "text/html": [
       "<div>\n",
       "<style scoped>\n",
       "    .dataframe tbody tr th:only-of-type {\n",
       "        vertical-align: middle;\n",
       "    }\n",
       "\n",
       "    .dataframe tbody tr th {\n",
       "        vertical-align: top;\n",
       "    }\n",
       "\n",
       "    .dataframe thead th {\n",
       "        text-align: right;\n",
       "    }\n",
       "</style>\n",
       "<table border=\"1\" class=\"dataframe\">\n",
       "  <thead>\n",
       "    <tr style=\"text-align: right;\">\n",
       "      <th></th>\n",
       "      <th>date</th>\n",
       "      <th>area</th>\n",
       "      <th>area_type</th>\n",
       "      <th>unvaccinated_cases</th>\n",
       "      <th>vaccinated_cases</th>\n",
       "      <th>unvaccinated_hosp</th>\n",
       "      <th>vaccinated_hosp</th>\n",
       "      <th>unvaccinated_deaths</th>\n",
       "      <th>vaccinated_deaths</th>\n",
       "      <th>population_unvaccinated</th>\n",
       "      <th>population_vaccinated</th>\n",
       "      <th>unvaccinated_cases_per_100k</th>\n",
       "      <th>vaccinated_cases_per_100k</th>\n",
       "      <th>unvaccinated_hosp_per_100k</th>\n",
       "      <th>vaccinated_hosp_per_100k</th>\n",
       "      <th>unvaccinated_deaths_per_100k</th>\n",
       "      <th>vaccinated_deaths_per_100k</th>\n",
       "    </tr>\n",
       "  </thead>\n",
       "  <tbody>\n",
       "    <tr>\n",
       "      <th>0</th>\n",
       "      <td>2/1/21</td>\n",
       "      <td>California</td>\n",
       "      <td>State</td>\n",
       "      <td>13818</td>\n",
       "      <td>21</td>\n",
       "      <td>794</td>\n",
       "      <td>0</td>\n",
       "      <td>12</td>\n",
       "      <td>0</td>\n",
       "      <td>32631343</td>\n",
       "      <td>338949</td>\n",
       "      <td>NaN</td>\n",
       "      <td>NaN</td>\n",
       "      <td>NaN</td>\n",
       "      <td>NaN</td>\n",
       "      <td>NaN</td>\n",
       "      <td>NaN</td>\n",
       "    </tr>\n",
       "    <tr>\n",
       "      <th>1</th>\n",
       "      <td>2/2/21</td>\n",
       "      <td>California</td>\n",
       "      <td>State</td>\n",
       "      <td>11359</td>\n",
       "      <td>18</td>\n",
       "      <td>631</td>\n",
       "      <td>0</td>\n",
       "      <td>15</td>\n",
       "      <td>0</td>\n",
       "      <td>32514813</td>\n",
       "      <td>373123</td>\n",
       "      <td>NaN</td>\n",
       "      <td>NaN</td>\n",
       "      <td>NaN</td>\n",
       "      <td>NaN</td>\n",
       "      <td>NaN</td>\n",
       "      <td>NaN</td>\n",
       "    </tr>\n",
       "    <tr>\n",
       "      <th>2</th>\n",
       "      <td>2/3/21</td>\n",
       "      <td>California</td>\n",
       "      <td>State</td>\n",
       "      <td>10335</td>\n",
       "      <td>27</td>\n",
       "      <td>565</td>\n",
       "      <td>1</td>\n",
       "      <td>17</td>\n",
       "      <td>0</td>\n",
       "      <td>32379775</td>\n",
       "      <td>409723</td>\n",
       "      <td>NaN</td>\n",
       "      <td>NaN</td>\n",
       "      <td>NaN</td>\n",
       "      <td>NaN</td>\n",
       "      <td>NaN</td>\n",
       "      <td>NaN</td>\n",
       "    </tr>\n",
       "    <tr>\n",
       "      <th>3</th>\n",
       "      <td>2/4/21</td>\n",
       "      <td>California</td>\n",
       "      <td>State</td>\n",
       "      <td>9013</td>\n",
       "      <td>16</td>\n",
       "      <td>501</td>\n",
       "      <td>0</td>\n",
       "      <td>19</td>\n",
       "      <td>0</td>\n",
       "      <td>32216190</td>\n",
       "      <td>431324</td>\n",
       "      <td>NaN</td>\n",
       "      <td>NaN</td>\n",
       "      <td>NaN</td>\n",
       "      <td>NaN</td>\n",
       "      <td>NaN</td>\n",
       "      <td>NaN</td>\n",
       "    </tr>\n",
       "    <tr>\n",
       "      <th>4</th>\n",
       "      <td>2/5/21</td>\n",
       "      <td>California</td>\n",
       "      <td>State</td>\n",
       "      <td>8404</td>\n",
       "      <td>16</td>\n",
       "      <td>512</td>\n",
       "      <td>0</td>\n",
       "      <td>27</td>\n",
       "      <td>0</td>\n",
       "      <td>32053017</td>\n",
       "      <td>447262</td>\n",
       "      <td>NaN</td>\n",
       "      <td>NaN</td>\n",
       "      <td>NaN</td>\n",
       "      <td>NaN</td>\n",
       "      <td>NaN</td>\n",
       "      <td>NaN</td>\n",
       "    </tr>\n",
       "    <tr>\n",
       "      <th>...</th>\n",
       "      <td>...</td>\n",
       "      <td>...</td>\n",
       "      <td>...</td>\n",
       "      <td>...</td>\n",
       "      <td>...</td>\n",
       "      <td>...</td>\n",
       "      <td>...</td>\n",
       "      <td>...</td>\n",
       "      <td>...</td>\n",
       "      <td>...</td>\n",
       "      <td>...</td>\n",
       "      <td>...</td>\n",
       "      <td>...</td>\n",
       "      <td>...</td>\n",
       "      <td>...</td>\n",
       "      <td>...</td>\n",
       "      <td>...</td>\n",
       "    </tr>\n",
       "    <tr>\n",
       "      <th>345</th>\n",
       "      <td>1/12/22</td>\n",
       "      <td>California</td>\n",
       "      <td>State</td>\n",
       "      <td>44075</td>\n",
       "      <td>49933</td>\n",
       "      <td>311</td>\n",
       "      <td>227</td>\n",
       "      <td>42</td>\n",
       "      <td>27</td>\n",
       "      <td>5195273</td>\n",
       "      <td>26235579</td>\n",
       "      <td>778.672129</td>\n",
       "      <td>182.065736</td>\n",
       "      <td>7.836794</td>\n",
       "      <td>1.083588</td>\n",
       "      <td>0.896419</td>\n",
       "      <td>0.072421</td>\n",
       "    </tr>\n",
       "    <tr>\n",
       "      <th>346</th>\n",
       "      <td>1/13/22</td>\n",
       "      <td>California</td>\n",
       "      <td>State</td>\n",
       "      <td>40341</td>\n",
       "      <td>45697</td>\n",
       "      <td>239</td>\n",
       "      <td>164</td>\n",
       "      <td>52</td>\n",
       "      <td>21</td>\n",
       "      <td>5165170</td>\n",
       "      <td>26254991</td>\n",
       "      <td>754.462790</td>\n",
       "      <td>173.837968</td>\n",
       "      <td>7.202086</td>\n",
       "      <td>0.962538</td>\n",
       "      <td>0.923770</td>\n",
       "      <td>0.073455</td>\n",
       "    </tr>\n",
       "    <tr>\n",
       "      <th>347</th>\n",
       "      <td>1/14/22</td>\n",
       "      <td>California</td>\n",
       "      <td>State</td>\n",
       "      <td>35374</td>\n",
       "      <td>42792</td>\n",
       "      <td>235</td>\n",
       "      <td>174</td>\n",
       "      <td>45</td>\n",
       "      <td>10</td>\n",
       "      <td>5154220</td>\n",
       "      <td>26262114</td>\n",
       "      <td>725.666126</td>\n",
       "      <td>166.253073</td>\n",
       "      <td>6.552190</td>\n",
       "      <td>0.893737</td>\n",
       "      <td>0.934047</td>\n",
       "      <td>0.071804</td>\n",
       "    </tr>\n",
       "    <tr>\n",
       "      <th>348</th>\n",
       "      <td>1/15/22</td>\n",
       "      <td>California</td>\n",
       "      <td>State</td>\n",
       "      <td>19110</td>\n",
       "      <td>23305</td>\n",
       "      <td>146</td>\n",
       "      <td>95</td>\n",
       "      <td>51</td>\n",
       "      <td>16</td>\n",
       "      <td>5152524</td>\n",
       "      <td>26262924</td>\n",
       "      <td>708.382366</td>\n",
       "      <td>161.051592</td>\n",
       "      <td>5.908339</td>\n",
       "      <td>0.796887</td>\n",
       "      <td>0.942673</td>\n",
       "      <td>0.070713</td>\n",
       "    </tr>\n",
       "    <tr>\n",
       "      <th>349</th>\n",
       "      <td>1/16/22</td>\n",
       "      <td>California</td>\n",
       "      <td>State</td>\n",
       "      <td>12548</td>\n",
       "      <td>15461</td>\n",
       "      <td>111</td>\n",
       "      <td>80</td>\n",
       "      <td>45</td>\n",
       "      <td>18</td>\n",
       "      <td>5144111</td>\n",
       "      <td>26268940</td>\n",
       "      <td>692.061827</td>\n",
       "      <td>156.749487</td>\n",
       "      <td>5.165407</td>\n",
       "      <td>0.700991</td>\n",
       "      <td>0.958100</td>\n",
       "      <td>0.070697</td>\n",
       "    </tr>\n",
       "  </tbody>\n",
       "</table>\n",
       "<p>350 rows × 17 columns</p>\n",
       "</div>"
      ],
      "text/plain": [
       "        date        area area_type  unvaccinated_cases  vaccinated_cases  \\\n",
       "0     2/1/21  California     State               13818                21   \n",
       "1     2/2/21  California     State               11359                18   \n",
       "2     2/3/21  California     State               10335                27   \n",
       "3     2/4/21  California     State                9013                16   \n",
       "4     2/5/21  California     State                8404                16   \n",
       "..       ...         ...       ...                 ...               ...   \n",
       "345  1/12/22  California     State               44075             49933   \n",
       "346  1/13/22  California     State               40341             45697   \n",
       "347  1/14/22  California     State               35374             42792   \n",
       "348  1/15/22  California     State               19110             23305   \n",
       "349  1/16/22  California     State               12548             15461   \n",
       "\n",
       "     unvaccinated_hosp  vaccinated_hosp  unvaccinated_deaths  \\\n",
       "0                  794                0                   12   \n",
       "1                  631                0                   15   \n",
       "2                  565                1                   17   \n",
       "3                  501                0                   19   \n",
       "4                  512                0                   27   \n",
       "..                 ...              ...                  ...   \n",
       "345                311              227                   42   \n",
       "346                239              164                   52   \n",
       "347                235              174                   45   \n",
       "348                146               95                   51   \n",
       "349                111               80                   45   \n",
       "\n",
       "     vaccinated_deaths  population_unvaccinated  population_vaccinated  \\\n",
       "0                    0                 32631343                 338949   \n",
       "1                    0                 32514813                 373123   \n",
       "2                    0                 32379775                 409723   \n",
       "3                    0                 32216190                 431324   \n",
       "4                    0                 32053017                 447262   \n",
       "..                 ...                      ...                    ...   \n",
       "345                 27                  5195273               26235579   \n",
       "346                 21                  5165170               26254991   \n",
       "347                 10                  5154220               26262114   \n",
       "348                 16                  5152524               26262924   \n",
       "349                 18                  5144111               26268940   \n",
       "\n",
       "     unvaccinated_cases_per_100k  vaccinated_cases_per_100k  \\\n",
       "0                            NaN                        NaN   \n",
       "1                            NaN                        NaN   \n",
       "2                            NaN                        NaN   \n",
       "3                            NaN                        NaN   \n",
       "4                            NaN                        NaN   \n",
       "..                           ...                        ...   \n",
       "345                   778.672129                 182.065736   \n",
       "346                   754.462790                 173.837968   \n",
       "347                   725.666126                 166.253073   \n",
       "348                   708.382366                 161.051592   \n",
       "349                   692.061827                 156.749487   \n",
       "\n",
       "     unvaccinated_hosp_per_100k  vaccinated_hosp_per_100k  \\\n",
       "0                           NaN                       NaN   \n",
       "1                           NaN                       NaN   \n",
       "2                           NaN                       NaN   \n",
       "3                           NaN                       NaN   \n",
       "4                           NaN                       NaN   \n",
       "..                          ...                       ...   \n",
       "345                    7.836794                  1.083588   \n",
       "346                    7.202086                  0.962538   \n",
       "347                    6.552190                  0.893737   \n",
       "348                    5.908339                  0.796887   \n",
       "349                    5.165407                  0.700991   \n",
       "\n",
       "     unvaccinated_deaths_per_100k  vaccinated_deaths_per_100k  \n",
       "0                             NaN                         NaN  \n",
       "1                             NaN                         NaN  \n",
       "2                             NaN                         NaN  \n",
       "3                             NaN                         NaN  \n",
       "4                             NaN                         NaN  \n",
       "..                            ...                         ...  \n",
       "345                      0.896419                    0.072421  \n",
       "346                      0.923770                    0.073455  \n",
       "347                      0.934047                    0.071804  \n",
       "348                      0.942673                    0.070713  \n",
       "349                      0.958100                    0.070697  \n",
       "\n",
       "[350 rows x 17 columns]"
      ]
     },
     "execution_count": 19,
     "metadata": {},
     "output_type": "execute_result"
    }
   ],
   "source": [
    "df = pd.read_csv('CACovidStats.csv')\n",
    "df"
   ]
  },
  {
   "cell_type": "markdown",
   "id": "6cc5fed2",
   "metadata": {},
   "source": [
    "<h3>Exploring the Dataset </h3>"
   ]
  },
  {
   "cell_type": "markdown",
   "id": "9fd02b4b",
   "metadata": {},
   "source": [
    "_We see the csv file has been successfully read in as a dataframe (set to the variable 'df'). Now let's look at the basic shape of the dataframe, as well as what columns are included, and basic statistics of the whole dataframe._"
   ]
  },
  {
   "cell_type": "code",
   "execution_count": 20,
   "id": "b8ca0cec",
   "metadata": {},
   "outputs": [
    {
     "data": {
      "text/plain": [
       "(350, 17)"
      ]
     },
     "execution_count": 20,
     "metadata": {},
     "output_type": "execute_result"
    }
   ],
   "source": [
    "df.shape"
   ]
  },
  {
   "cell_type": "markdown",
   "id": "66796f66",
   "metadata": {},
   "source": [
    "_The dataframe has a total of 350 rows and 17 columns._"
   ]
  },
  {
   "cell_type": "code",
   "execution_count": 21,
   "id": "61693174",
   "metadata": {},
   "outputs": [
    {
     "data": {
      "text/plain": [
       "Index(['date', 'area', 'area_type', 'unvaccinated_cases', 'vaccinated_cases',\n",
       "       'unvaccinated_hosp', 'vaccinated_hosp', 'unvaccinated_deaths',\n",
       "       'vaccinated_deaths', 'population_unvaccinated', 'population_vaccinated',\n",
       "       'unvaccinated_cases_per_100k', 'vaccinated_cases_per_100k',\n",
       "       'unvaccinated_hosp_per_100k', 'vaccinated_hosp_per_100k',\n",
       "       'unvaccinated_deaths_per_100k', 'vaccinated_deaths_per_100k'],\n",
       "      dtype='object')"
      ]
     },
     "execution_count": 21,
     "metadata": {},
     "output_type": "execute_result"
    }
   ],
   "source": [
    "df.columns"
   ]
  },
  {
   "cell_type": "markdown",
   "id": "6ba3dec3",
   "metadata": {},
   "source": [
    "_Here is a list of the column names included in this dataframe. In this exploratory analysis, we will focus on 'unvaccinated cases', 'vaccinated cases', 'unvaccinated_hosp', 'vaccinated_hosp', 'unvaccinated_deaths',\n",
    "       'vaccinated_deaths', 'population_unvaccinated', and 'population_vaccinated'._"
   ]
  },
  {
   "cell_type": "code",
   "execution_count": 22,
   "id": "1e8c02f0",
   "metadata": {},
   "outputs": [
    {
     "data": {
      "text/html": [
       "<div>\n",
       "<style scoped>\n",
       "    .dataframe tbody tr th:only-of-type {\n",
       "        vertical-align: middle;\n",
       "    }\n",
       "\n",
       "    .dataframe tbody tr th {\n",
       "        vertical-align: top;\n",
       "    }\n",
       "\n",
       "    .dataframe thead th {\n",
       "        text-align: right;\n",
       "    }\n",
       "</style>\n",
       "<table border=\"1\" class=\"dataframe\">\n",
       "  <thead>\n",
       "    <tr style=\"text-align: right;\">\n",
       "      <th></th>\n",
       "      <th>unvaccinated_cases</th>\n",
       "      <th>vaccinated_cases</th>\n",
       "      <th>unvaccinated_hosp</th>\n",
       "      <th>vaccinated_hosp</th>\n",
       "      <th>unvaccinated_deaths</th>\n",
       "      <th>vaccinated_deaths</th>\n",
       "      <th>population_unvaccinated</th>\n",
       "      <th>population_vaccinated</th>\n",
       "      <th>unvaccinated_cases_per_100k</th>\n",
       "      <th>vaccinated_cases_per_100k</th>\n",
       "      <th>unvaccinated_hosp_per_100k</th>\n",
       "      <th>vaccinated_hosp_per_100k</th>\n",
       "      <th>unvaccinated_deaths_per_100k</th>\n",
       "      <th>vaccinated_deaths_per_100k</th>\n",
       "    </tr>\n",
       "  </thead>\n",
       "  <tbody>\n",
       "    <tr>\n",
       "      <th>count</th>\n",
       "      <td>350.000000</td>\n",
       "      <td>350.000000</td>\n",
       "      <td>350.000000</td>\n",
       "      <td>350.000000</td>\n",
       "      <td>350.000000</td>\n",
       "      <td>350.000000</td>\n",
       "      <td>3.500000e+02</td>\n",
       "      <td>3.500000e+02</td>\n",
       "      <td>344.000000</td>\n",
       "      <td>344.000000</td>\n",
       "      <td>344.000000</td>\n",
       "      <td>344.000000</td>\n",
       "      <td>344.000000</td>\n",
       "      <td>344.000000</td>\n",
       "    </tr>\n",
       "    <tr>\n",
       "      <th>mean</th>\n",
       "      <td>5331.140000</td>\n",
       "      <td>3721.200000</td>\n",
       "      <td>257.848571</td>\n",
       "      <td>59.128571</td>\n",
       "      <td>42.760000</td>\n",
       "      <td>6.928571</td>\n",
       "      <td>1.344229e+07</td>\n",
       "      <td>1.760641e+07</td>\n",
       "      <td>69.486642</td>\n",
       "      <td>14.130672</td>\n",
       "      <td>2.835231</td>\n",
       "      <td>0.261600</td>\n",
       "      <td>0.480075</td>\n",
       "      <td>0.030449</td>\n",
       "    </tr>\n",
       "    <tr>\n",
       "      <th>std</th>\n",
       "      <td>8617.019512</td>\n",
       "      <td>10689.162297</td>\n",
       "      <td>172.798763</td>\n",
       "      <td>72.062437</td>\n",
       "      <td>28.713576</td>\n",
       "      <td>7.066855</td>\n",
       "      <td>8.117216e+06</td>\n",
       "      <td>8.535109e+06</td>\n",
       "      <td>148.435071</td>\n",
       "      <td>36.790342</td>\n",
       "      <td>2.303871</td>\n",
       "      <td>0.260432</td>\n",
       "      <td>0.401960</td>\n",
       "      <td>0.026158</td>\n",
       "    </tr>\n",
       "    <tr>\n",
       "      <th>min</th>\n",
       "      <td>481.000000</td>\n",
       "      <td>4.000000</td>\n",
       "      <td>47.000000</td>\n",
       "      <td>0.000000</td>\n",
       "      <td>2.000000</td>\n",
       "      <td>0.000000</td>\n",
       "      <td>5.144111e+06</td>\n",
       "      <td>3.389490e+05</td>\n",
       "      <td>4.769396</td>\n",
       "      <td>0.371731</td>\n",
       "      <td>0.454763</td>\n",
       "      <td>0.032641</td>\n",
       "      <td>0.052675</td>\n",
       "      <td>0.000000</td>\n",
       "    </tr>\n",
       "    <tr>\n",
       "      <th>25%</th>\n",
       "      <td>1676.500000</td>\n",
       "      <td>71.000000</td>\n",
       "      <td>119.000000</td>\n",
       "      <td>6.000000</td>\n",
       "      <td>18.000000</td>\n",
       "      <td>0.000000</td>\n",
       "      <td>7.186862e+06</td>\n",
       "      <td>1.110501e+07</td>\n",
       "      <td>8.173201</td>\n",
       "      <td>0.882512</td>\n",
       "      <td>0.587124</td>\n",
       "      <td>0.069714</td>\n",
       "      <td>0.102672</td>\n",
       "      <td>0.005653</td>\n",
       "    </tr>\n",
       "    <tr>\n",
       "      <th>50%</th>\n",
       "      <td>2905.500000</td>\n",
       "      <td>1088.500000</td>\n",
       "      <td>215.000000</td>\n",
       "      <td>51.000000</td>\n",
       "      <td>41.000000</td>\n",
       "      <td>5.000000</td>\n",
       "      <td>1.044709e+07</td>\n",
       "      <td>2.141175e+07</td>\n",
       "      <td>37.069089</td>\n",
       "      <td>5.483538</td>\n",
       "      <td>3.089235</td>\n",
       "      <td>0.229922</td>\n",
       "      <td>0.233968</td>\n",
       "      <td>0.024900</td>\n",
       "    </tr>\n",
       "    <tr>\n",
       "      <th>75%</th>\n",
       "      <td>5154.500000</td>\n",
       "      <td>1918.750000</td>\n",
       "      <td>339.750000</td>\n",
       "      <td>83.250000</td>\n",
       "      <td>56.000000</td>\n",
       "      <td>13.000000</td>\n",
       "      <td>1.734166e+07</td>\n",
       "      <td>2.450291e+07</td>\n",
       "      <td>55.742250</td>\n",
       "      <td>8.272471</td>\n",
       "      <td>3.843735</td>\n",
       "      <td>0.341573</td>\n",
       "      <td>0.786130</td>\n",
       "      <td>0.049719</td>\n",
       "    </tr>\n",
       "    <tr>\n",
       "      <th>max</th>\n",
       "      <td>57075.000000</td>\n",
       "      <td>68356.000000</td>\n",
       "      <td>794.000000</td>\n",
       "      <td>405.000000</td>\n",
       "      <td>133.000000</td>\n",
       "      <td>27.000000</td>\n",
       "      <td>3.263134e+07</td>\n",
       "      <td>2.626894e+07</td>\n",
       "      <td>826.131855</td>\n",
       "      <td>203.843896</td>\n",
       "      <td>9.152375</td>\n",
       "      <td>1.341103</td>\n",
       "      <td>1.341148</td>\n",
       "      <td>0.089708</td>\n",
       "    </tr>\n",
       "  </tbody>\n",
       "</table>\n",
       "</div>"
      ],
      "text/plain": [
       "       unvaccinated_cases  vaccinated_cases  unvaccinated_hosp  \\\n",
       "count          350.000000        350.000000         350.000000   \n",
       "mean          5331.140000       3721.200000         257.848571   \n",
       "std           8617.019512      10689.162297         172.798763   \n",
       "min            481.000000          4.000000          47.000000   \n",
       "25%           1676.500000         71.000000         119.000000   \n",
       "50%           2905.500000       1088.500000         215.000000   \n",
       "75%           5154.500000       1918.750000         339.750000   \n",
       "max          57075.000000      68356.000000         794.000000   \n",
       "\n",
       "       vaccinated_hosp  unvaccinated_deaths  vaccinated_deaths  \\\n",
       "count       350.000000           350.000000         350.000000   \n",
       "mean         59.128571            42.760000           6.928571   \n",
       "std          72.062437            28.713576           7.066855   \n",
       "min           0.000000             2.000000           0.000000   \n",
       "25%           6.000000            18.000000           0.000000   \n",
       "50%          51.000000            41.000000           5.000000   \n",
       "75%          83.250000            56.000000          13.000000   \n",
       "max         405.000000           133.000000          27.000000   \n",
       "\n",
       "       population_unvaccinated  population_vaccinated  \\\n",
       "count             3.500000e+02           3.500000e+02   \n",
       "mean              1.344229e+07           1.760641e+07   \n",
       "std               8.117216e+06           8.535109e+06   \n",
       "min               5.144111e+06           3.389490e+05   \n",
       "25%               7.186862e+06           1.110501e+07   \n",
       "50%               1.044709e+07           2.141175e+07   \n",
       "75%               1.734166e+07           2.450291e+07   \n",
       "max               3.263134e+07           2.626894e+07   \n",
       "\n",
       "       unvaccinated_cases_per_100k  vaccinated_cases_per_100k  \\\n",
       "count                   344.000000                 344.000000   \n",
       "mean                     69.486642                  14.130672   \n",
       "std                     148.435071                  36.790342   \n",
       "min                       4.769396                   0.371731   \n",
       "25%                       8.173201                   0.882512   \n",
       "50%                      37.069089                   5.483538   \n",
       "75%                      55.742250                   8.272471   \n",
       "max                     826.131855                 203.843896   \n",
       "\n",
       "       unvaccinated_hosp_per_100k  vaccinated_hosp_per_100k  \\\n",
       "count                  344.000000                344.000000   \n",
       "mean                     2.835231                  0.261600   \n",
       "std                      2.303871                  0.260432   \n",
       "min                      0.454763                  0.032641   \n",
       "25%                      0.587124                  0.069714   \n",
       "50%                      3.089235                  0.229922   \n",
       "75%                      3.843735                  0.341573   \n",
       "max                      9.152375                  1.341103   \n",
       "\n",
       "       unvaccinated_deaths_per_100k  vaccinated_deaths_per_100k  \n",
       "count                    344.000000                  344.000000  \n",
       "mean                       0.480075                    0.030449  \n",
       "std                        0.401960                    0.026158  \n",
       "min                        0.052675                    0.000000  \n",
       "25%                        0.102672                    0.005653  \n",
       "50%                        0.233968                    0.024900  \n",
       "75%                        0.786130                    0.049719  \n",
       "max                        1.341148                    0.089708  "
      ]
     },
     "execution_count": 22,
     "metadata": {},
     "output_type": "execute_result"
    }
   ],
   "source": [
    "df.describe()"
   ]
  },
  {
   "cell_type": "markdown",
   "id": "b650220e",
   "metadata": {},
   "source": [
    "_The .describe() method allows us to complete basic statistical analysis of all integer data sets included in the dataframe. Here we see an average of 5,331 individuals are unvaccinated and 3,721 individiuals are vaccinated across a count of 350 days._"
   ]
  },
  {
   "cell_type": "markdown",
   "id": "2db44755",
   "metadata": {},
   "source": [
    "_Now lets take a deeper dive in the statistics for unvaccinated cases, vaccinated cases, unvaccinated hospitalizations, vaccinated hospitalizations, unvaccinated deaths, and vaccinated deaths. To do this, we will create a new dataframe with only these columns (plus 'date'), save it to a new variable, and create a new csv file for future reference._"
   ]
  },
  {
   "cell_type": "code",
   "execution_count": 23,
   "id": "0aec88ba",
   "metadata": {},
   "outputs": [],
   "source": [
    "covid_data = df[['date','unvaccinated_cases', 'vaccinated_cases', 'unvaccinated_hosp', 'vaccinated_hosp',\\\n",
    "                 'unvaccinated_deaths', 'vaccinated_deaths', 'population_unvaccinated', 'population_vaccinated']]\n",
    "covid_data.to_csv('covid_data_new.csv', index=False)"
   ]
  },
  {
   "cell_type": "code",
   "execution_count": 24,
   "id": "c31dd8a2",
   "metadata": {},
   "outputs": [
    {
     "data": {
      "text/html": [
       "<div>\n",
       "<style scoped>\n",
       "    .dataframe tbody tr th:only-of-type {\n",
       "        vertical-align: middle;\n",
       "    }\n",
       "\n",
       "    .dataframe tbody tr th {\n",
       "        vertical-align: top;\n",
       "    }\n",
       "\n",
       "    .dataframe thead th {\n",
       "        text-align: right;\n",
       "    }\n",
       "</style>\n",
       "<table border=\"1\" class=\"dataframe\">\n",
       "  <thead>\n",
       "    <tr style=\"text-align: right;\">\n",
       "      <th></th>\n",
       "      <th>date</th>\n",
       "      <th>unvaccinated_cases</th>\n",
       "      <th>vaccinated_cases</th>\n",
       "      <th>unvaccinated_hosp</th>\n",
       "      <th>vaccinated_hosp</th>\n",
       "      <th>unvaccinated_deaths</th>\n",
       "      <th>vaccinated_deaths</th>\n",
       "      <th>population_unvaccinated</th>\n",
       "      <th>population_vaccinated</th>\n",
       "    </tr>\n",
       "  </thead>\n",
       "  <tbody>\n",
       "    <tr>\n",
       "      <th>0</th>\n",
       "      <td>2/1/21</td>\n",
       "      <td>13818</td>\n",
       "      <td>21</td>\n",
       "      <td>794</td>\n",
       "      <td>0</td>\n",
       "      <td>12</td>\n",
       "      <td>0</td>\n",
       "      <td>32631343</td>\n",
       "      <td>338949</td>\n",
       "    </tr>\n",
       "    <tr>\n",
       "      <th>1</th>\n",
       "      <td>2/2/21</td>\n",
       "      <td>11359</td>\n",
       "      <td>18</td>\n",
       "      <td>631</td>\n",
       "      <td>0</td>\n",
       "      <td>15</td>\n",
       "      <td>0</td>\n",
       "      <td>32514813</td>\n",
       "      <td>373123</td>\n",
       "    </tr>\n",
       "    <tr>\n",
       "      <th>2</th>\n",
       "      <td>2/3/21</td>\n",
       "      <td>10335</td>\n",
       "      <td>27</td>\n",
       "      <td>565</td>\n",
       "      <td>1</td>\n",
       "      <td>17</td>\n",
       "      <td>0</td>\n",
       "      <td>32379775</td>\n",
       "      <td>409723</td>\n",
       "    </tr>\n",
       "    <tr>\n",
       "      <th>3</th>\n",
       "      <td>2/4/21</td>\n",
       "      <td>9013</td>\n",
       "      <td>16</td>\n",
       "      <td>501</td>\n",
       "      <td>0</td>\n",
       "      <td>19</td>\n",
       "      <td>0</td>\n",
       "      <td>32216190</td>\n",
       "      <td>431324</td>\n",
       "    </tr>\n",
       "    <tr>\n",
       "      <th>4</th>\n",
       "      <td>2/5/21</td>\n",
       "      <td>8404</td>\n",
       "      <td>16</td>\n",
       "      <td>512</td>\n",
       "      <td>0</td>\n",
       "      <td>27</td>\n",
       "      <td>0</td>\n",
       "      <td>32053017</td>\n",
       "      <td>447262</td>\n",
       "    </tr>\n",
       "    <tr>\n",
       "      <th>...</th>\n",
       "      <td>...</td>\n",
       "      <td>...</td>\n",
       "      <td>...</td>\n",
       "      <td>...</td>\n",
       "      <td>...</td>\n",
       "      <td>...</td>\n",
       "      <td>...</td>\n",
       "      <td>...</td>\n",
       "      <td>...</td>\n",
       "    </tr>\n",
       "    <tr>\n",
       "      <th>345</th>\n",
       "      <td>1/12/22</td>\n",
       "      <td>44075</td>\n",
       "      <td>49933</td>\n",
       "      <td>311</td>\n",
       "      <td>227</td>\n",
       "      <td>42</td>\n",
       "      <td>27</td>\n",
       "      <td>5195273</td>\n",
       "      <td>26235579</td>\n",
       "    </tr>\n",
       "    <tr>\n",
       "      <th>346</th>\n",
       "      <td>1/13/22</td>\n",
       "      <td>40341</td>\n",
       "      <td>45697</td>\n",
       "      <td>239</td>\n",
       "      <td>164</td>\n",
       "      <td>52</td>\n",
       "      <td>21</td>\n",
       "      <td>5165170</td>\n",
       "      <td>26254991</td>\n",
       "    </tr>\n",
       "    <tr>\n",
       "      <th>347</th>\n",
       "      <td>1/14/22</td>\n",
       "      <td>35374</td>\n",
       "      <td>42792</td>\n",
       "      <td>235</td>\n",
       "      <td>174</td>\n",
       "      <td>45</td>\n",
       "      <td>10</td>\n",
       "      <td>5154220</td>\n",
       "      <td>26262114</td>\n",
       "    </tr>\n",
       "    <tr>\n",
       "      <th>348</th>\n",
       "      <td>1/15/22</td>\n",
       "      <td>19110</td>\n",
       "      <td>23305</td>\n",
       "      <td>146</td>\n",
       "      <td>95</td>\n",
       "      <td>51</td>\n",
       "      <td>16</td>\n",
       "      <td>5152524</td>\n",
       "      <td>26262924</td>\n",
       "    </tr>\n",
       "    <tr>\n",
       "      <th>349</th>\n",
       "      <td>1/16/22</td>\n",
       "      <td>12548</td>\n",
       "      <td>15461</td>\n",
       "      <td>111</td>\n",
       "      <td>80</td>\n",
       "      <td>45</td>\n",
       "      <td>18</td>\n",
       "      <td>5144111</td>\n",
       "      <td>26268940</td>\n",
       "    </tr>\n",
       "  </tbody>\n",
       "</table>\n",
       "<p>350 rows × 9 columns</p>\n",
       "</div>"
      ],
      "text/plain": [
       "        date  unvaccinated_cases  vaccinated_cases  unvaccinated_hosp  \\\n",
       "0     2/1/21               13818                21                794   \n",
       "1     2/2/21               11359                18                631   \n",
       "2     2/3/21               10335                27                565   \n",
       "3     2/4/21                9013                16                501   \n",
       "4     2/5/21                8404                16                512   \n",
       "..       ...                 ...               ...                ...   \n",
       "345  1/12/22               44075             49933                311   \n",
       "346  1/13/22               40341             45697                239   \n",
       "347  1/14/22               35374             42792                235   \n",
       "348  1/15/22               19110             23305                146   \n",
       "349  1/16/22               12548             15461                111   \n",
       "\n",
       "     vaccinated_hosp  unvaccinated_deaths  vaccinated_deaths  \\\n",
       "0                  0                   12                  0   \n",
       "1                  0                   15                  0   \n",
       "2                  1                   17                  0   \n",
       "3                  0                   19                  0   \n",
       "4                  0                   27                  0   \n",
       "..               ...                  ...                ...   \n",
       "345              227                   42                 27   \n",
       "346              164                   52                 21   \n",
       "347              174                   45                 10   \n",
       "348               95                   51                 16   \n",
       "349               80                   45                 18   \n",
       "\n",
       "     population_unvaccinated  population_vaccinated  \n",
       "0                   32631343                 338949  \n",
       "1                   32514813                 373123  \n",
       "2                   32379775                 409723  \n",
       "3                   32216190                 431324  \n",
       "4                   32053017                 447262  \n",
       "..                       ...                    ...  \n",
       "345                  5195273               26235579  \n",
       "346                  5165170               26254991  \n",
       "347                  5154220               26262114  \n",
       "348                  5152524               26262924  \n",
       "349                  5144111               26268940  \n",
       "\n",
       "[350 rows x 9 columns]"
      ]
     },
     "execution_count": 24,
     "metadata": {},
     "output_type": "execute_result"
    }
   ],
   "source": [
    "covid_df = pd.read_csv('covid_data_new.csv')\n",
    "covid_df"
   ]
  },
  {
   "cell_type": "markdown",
   "id": "e7a998f8",
   "metadata": {},
   "source": [
    "_Now let's explore if our data is complete and has no null values. If there are null values, we will debate on whether to drop these null values since we want to explore linear relationships between variables._"
   ]
  },
  {
   "cell_type": "code",
   "execution_count": 25,
   "id": "f1762a0c",
   "metadata": {},
   "outputs": [
    {
     "data": {
      "text/plain": [
       "date                       False\n",
       "unvaccinated_cases         False\n",
       "vaccinated_cases           False\n",
       "unvaccinated_hosp          False\n",
       "vaccinated_hosp            False\n",
       "unvaccinated_deaths        False\n",
       "vaccinated_deaths          False\n",
       "population_unvaccinated    False\n",
       "population_vaccinated      False\n",
       "dtype: bool"
      ]
     },
     "execution_count": 25,
     "metadata": {},
     "output_type": "execute_result"
    }
   ],
   "source": [
    "covid_df.isna().any()"
   ]
  },
  {
   "cell_type": "markdown",
   "id": "a8544449",
   "metadata": {},
   "source": [
    "_The .isna() method explores if there are any null values in all rows and columns. Tacking on the .any() method will print 'true' or 'false' values if there is any missing or null data in each column. Looks like we have a clean dataset with no null values!_"
   ]
  },
  {
   "cell_type": "markdown",
   "id": "d9c6b88a",
   "metadata": {},
   "source": [
    "<h3> Basic Statistical Analysis of Dataset </h3>"
   ]
  },
  {
   "cell_type": "markdown",
   "id": "2fc5fe64",
   "metadata": {},
   "source": [
    "_Let's dive deeper into the dataset and begin to basic statistics and explore covariance and correlations between columns. This will determine whether or not our data showcases a_ **linear cause/effect** _relationship for further regression analysis._ "
   ]
  },
  {
   "cell_type": "markdown",
   "id": "6fe62a96",
   "metadata": {},
   "source": [
    "First, let's develop and review a heatmap visualization to determine if there are any _**strong**_ correlations between columns. "
   ]
  },
  {
   "cell_type": "code",
   "execution_count": 29,
   "id": "4f4ebf0d",
   "metadata": {},
   "outputs": [
    {
     "data": {
      "image/png": "[encoded data removed]",
      "text/plain": [
       "<Figure size 864x576 with 2 Axes>"
      ]
     },
     "metadata": {
      "needs_background": "light"
     },
     "output_type": "display_data"
    }
   ],
   "source": [
    "plt.figure(figsize=(12, 8))\n",
    "plt.matshow(covid_df.corr(),\n",
    "            fignum=False,\n",
    "           aspect='equal')\n",
    "\n",
    "columns = len(covid_df.columns)\n",
    "\n",
    "plt.xticks(range(columns), covid_df.columns)\n",
    "plt.yticks(range(columns), covid_df.columns)\n",
    "\n",
    "plt.colorbar()\n",
    "plt.xticks(rotation=90)\n",
    "plt.title('Correlations', y=1.3)\n",
    "\n",
    "plt.show()"
   ]
  },
  {
   "cell_type": "markdown",
   "id": "ab29972b",
   "metadata": {},
   "source": [
    "_At quick glance, we see that darker values demonstrate stronger **negative** relationships and lighter values demonstrate stronger **positive** correlations. Values running diagonally down the center are all bright yellow (correlation = 1) since those are values compared to itself. It appears there is a strong positive correlation between unvaccinated cases and unvaccinated hospitalizations, unvaccinated population and unvaccinated deaths, and a strong negative correlation between population unvaccinated and vaccinated deaths._\n",
    "<br>\n",
    "<br>\n",
    "_Let's calculate these correlational values, and a few others, for deeper exploration._"
   ]
  },
  {
   "cell_type": "markdown",
   "id": "ab49eb62",
   "metadata": {},
   "source": [
    "<h5>Unvaccinated Population vs. Unvaccinated Cases</h5>"
   ]
  },
  {
   "cell_type": "code",
   "execution_count": 35,
   "id": "12756837",
   "metadata": {},
   "outputs": [
    {
     "data": {
      "text/plain": [
       "(-0.24791857879909837, 2.6655632920627315e-06)"
      ]
     },
     "execution_count": 35,
     "metadata": {},
     "output_type": "execute_result"
    }
   ],
   "source": [
    "pearsonr(covid_data['population_unvaccinated'], covid_data['unvaccinated_cases'])"
   ]
  },
  {
   "cell_type": "code",
   "execution_count": 48,
   "id": "b7e7655a",
   "metadata": {},
   "outputs": [
    {
     "data": {
      "image/png": "[encoded data removed]",
      "text/plain": [
       "<Figure size 864x576 with 1 Axes>"
      ]
     },
     "metadata": {
      "needs_background": "light"
     },
     "output_type": "display_data"
    }
   ],
   "source": [
    "plt.figure(figsize=(12, 8))\n",
    "\n",
    "plt.scatter(covid_data['population_unvaccinated'], \n",
    "            covid_data['unvaccinated_cases'], color='green')\n",
    "\n",
    "plt.title('Unvaccinated Population vs. Unvaccinated Cases')\n",
    "\n",
    "plt.xlabel('Unvaccinated Population (by 100,000)')\n",
    "plt.ylabel('Unvaccinated Cases')\n",
    "\n",
    "plt.show()"
   ]
  },
  {
   "cell_type": "markdown",
   "id": "d8bc77af",
   "metadata": {},
   "source": [
    "_The pearson's correlation computation prints the correlation coefficient (r) and the p-value. For these two columns, the correlation coefficient is -0.2479 which is a weak, negative correlation. Correlations are said to be strong when they are 0.7 or higher, with 1 being the highest possible value.\n",
    "<br>\n",
    "<br>\n",
    "In null hypothesis significance testing, the p-value is the probability of obtaining test results at least as extreme as the results actually observed, under the assumption that the null hypothesis is correct. The p-value for these two columns was 2.6656e-06 which is a small p-value suggesting statistical significance._"
   ]
  },
  {
   "cell_type": "markdown",
   "id": "4b2b22e0",
   "metadata": {},
   "source": [
    "<h5>Unvaccinated Cases vs. Unvaccinated Hospitalizations</h5>"
   ]
  },
  {
   "cell_type": "code",
   "execution_count": 30,
   "id": "4af82450",
   "metadata": {},
   "outputs": [
    {
     "data": {
      "text/plain": [
       "(0.44556347825564896, 1.7936638393895515e-18)"
      ]
     },
     "execution_count": 30,
     "metadata": {},
     "output_type": "execute_result"
    }
   ],
   "source": [
    "pearsonr(covid_data['unvaccinated_cases'], covid_data['unvaccinated_hosp'])"
   ]
  },
  {
   "cell_type": "code",
   "execution_count": 42,
   "id": "2f81a920",
   "metadata": {},
   "outputs": [
    {
     "data": {
      "image/png": "[encoded data removed]",
      "text/plain": [
       "<Figure size 864x576 with 1 Axes>"
      ]
     },
     "metadata": {
      "needs_background": "light"
     },
     "output_type": "display_data"
    }
   ],
   "source": [
    "plt.figure(figsize=(12, 8))\n",
    "\n",
    "plt.scatter(covid_data['unvaccinated_cases'], \n",
    "            covid_data['unvaccinated_hosp'], color='m')\n",
    "\n",
    "plt.title('Unvaccinated Cases vs. Unvaccinated Hospitalizations')\n",
    "\n",
    "plt.xlabel('Unvaccinated Cases')\n",
    "plt.ylabel('Unvaccinated Hospitalizations')\n",
    "\n",
    "plt.show()"
   ]
  },
  {
   "cell_type": "markdown",
   "id": "0df92586",
   "metadata": {},
   "source": [
    "_For these two columns, the correlation coefficient is 0.4456 which is a weak, positive correlation. The p-value for these two columns was 1.793e-18 which is a very small p-value suggesting statistical significance._"
   ]
  },
  {
   "cell_type": "markdown",
   "id": "f2c24d4e",
   "metadata": {},
   "source": [
    "<h5>Unvaccinated Cases vs. Unvaccinated Deaths</h5>"
   ]
  },
  {
   "cell_type": "code",
   "execution_count": 41,
   "id": "6e6f7d99",
   "metadata": {},
   "outputs": [
    {
     "data": {
      "text/plain": [
       "(0.14565817130000572, 0.006336506467088951)"
      ]
     },
     "execution_count": 41,
     "metadata": {},
     "output_type": "execute_result"
    }
   ],
   "source": [
    "pearsonr(covid_data['unvaccinated_cases'], covid_data['unvaccinated_deaths'])"
   ]
  },
  {
   "cell_type": "code",
   "execution_count": 45,
   "id": "61413b3a",
   "metadata": {},
   "outputs": [
    {
     "data": {
      "image/png": "[encoded data removed]",
      "text/plain": [
       "<Figure size 864x576 with 1 Axes>"
      ]
     },
     "metadata": {
      "needs_background": "light"
     },
     "output_type": "display_data"
    }
   ],
   "source": [
    "plt.figure(figsize=(12, 8))\n",
    "\n",
    "plt.scatter(covid_data['unvaccinated_cases'], \n",
    "            covid_data['unvaccinated_deaths'], color='gold')\n",
    "\n",
    "plt.title('Unvaccinated Cases vs. Unvaccinated Deaths')\n",
    "\n",
    "plt.xlabel('Unvaccinated Cases')\n",
    "plt.ylabel('Unvaccinated Hospitalizations (by 100,000)')\n",
    "\n",
    "plt.show()"
   ]
  },
  {
   "cell_type": "markdown",
   "id": "43a498e0",
   "metadata": {},
   "source": [
    "_For these two columns, the correlation coefficient is 0.14566 which is a weak, positive correlation. The p-value for these two columns was 0.006336 which is a relatively large p-value suggesting no statistical significance._"
   ]
  },
  {
   "cell_type": "markdown",
   "id": "7391aa49",
   "metadata": {},
   "source": [
    "<h5>Vaccinated Population vs. Vaccinated Cases</h5>"
   ]
  },
  {
   "cell_type": "code",
   "execution_count": 47,
   "id": "37767434",
   "metadata": {},
   "outputs": [
    {
     "data": {
      "text/plain": [
       "(0.3175714513632444, 1.216793672148462e-09)"
      ]
     },
     "execution_count": 47,
     "metadata": {},
     "output_type": "execute_result"
    }
   ],
   "source": [
    "pearsonr(covid_data['population_vaccinated'], covid_data['vaccinated_cases'])"
   ]
  },
  {
   "cell_type": "code",
   "execution_count": 53,
   "id": "d2318b47",
   "metadata": {},
   "outputs": [
    {
     "data": {
      "image/png": "[encoded data removed]",
      "text/plain": [
       "<Figure size 864x576 with 1 Axes>"
      ]
     },
     "metadata": {
      "needs_background": "light"
     },
     "output_type": "display_data"
    }
   ],
   "source": [
    "plt.figure(figsize=(12, 8))\n",
    "\n",
    "plt.scatter(covid_data['population_vaccinated'], \n",
    "            covid_data['vaccinated_cases'], color='blue')\n",
    "\n",
    "plt.title('Vaccinated Population vs. Vaccinated Cases')\n",
    "\n",
    "plt.xlabel('Vaccinated Population (by 100,000)')\n",
    "plt.ylabel('Vaccinated Cases')\n",
    "\n",
    "plt.show()"
   ]
  },
  {
   "cell_type": "markdown",
   "id": "94857601",
   "metadata": {},
   "source": [
    "_For these two columns, the correlation coefficient is 0.31757 which is a weak, positive correlation. The p-value for these two columns was 1.2168e-09 which is a small p-value suggesting statistical significance._"
   ]
  },
  {
   "cell_type": "markdown",
   "id": "0b314740",
   "metadata": {},
   "source": [
    "<h5>Vaccinated Cases vs. Vaccinated Hospitalizations</h5>"
   ]
  },
  {
   "cell_type": "code",
   "execution_count": 50,
   "id": "ab00746c",
   "metadata": {},
   "outputs": [
    {
     "data": {
      "text/plain": [
       "(0.8410933855192764, 6.720143088591805e-95)"
      ]
     },
     "execution_count": 50,
     "metadata": {},
     "output_type": "execute_result"
    }
   ],
   "source": [
    "pearsonr(covid_data['vaccinated_cases'], covid_data['vaccinated_hosp'])"
   ]
  },
  {
   "cell_type": "code",
   "execution_count": 56,
   "id": "c197cdc4",
   "metadata": {},
   "outputs": [
    {
     "data": {
      "image/png": "[encoded data removed]",
      "text/plain": [
       "<Figure size 864x576 with 1 Axes>"
      ]
     },
     "metadata": {
      "needs_background": "light"
     },
     "output_type": "display_data"
    }
   ],
   "source": [
    "plt.figure(figsize=(12, 8))\n",
    "\n",
    "plt.scatter(covid_data['vaccinated_cases'], \n",
    "            covid_data['vaccinated_hosp'], color='hotpink')\n",
    "\n",
    "plt.title('Vaccinated Cases vs. Vaccinated Hospitalizations')\n",
    "\n",
    "plt.xlabel('Vaccinated Population')\n",
    "plt.ylabel('Vaccinated Cases (by 100,000)')\n",
    "\n",
    "plt.show()"
   ]
  },
  {
   "cell_type": "markdown",
   "id": "f9fb9f3f",
   "metadata": {},
   "source": [
    "_For these two columns, the correlation coefficient is 0.84109 which is a strong, positive correlation. The p-value for these two columns was 6.72014e-95 which is a very small p-value suggesting statistical significance._"
   ]
  },
  {
   "cell_type": "markdown",
   "id": "05c53299",
   "metadata": {},
   "source": [
    "<h5>Vaccinated Cases vs. Vaccinated Deaths</h5>"
   ]
  },
  {
   "cell_type": "code",
   "execution_count": 57,
   "id": "58a73845",
   "metadata": {},
   "outputs": [
    {
     "data": {
      "text/plain": [
       "(0.3154485148680297, 1.5879604317211896e-09)"
      ]
     },
     "execution_count": 57,
     "metadata": {},
     "output_type": "execute_result"
    }
   ],
   "source": [
    "pearsonr(covid_data['vaccinated_cases'], covid_data['vaccinated_deaths'])"
   ]
  },
  {
   "cell_type": "code",
   "execution_count": 59,
   "id": "e5087d19",
   "metadata": {},
   "outputs": [
    {
     "data": {
      "image/png": "[encoded data removed]",
      "text/plain": [
       "<Figure size 864x576 with 1 Axes>"
      ]
     },
     "metadata": {
      "needs_background": "light"
     },
     "output_type": "display_data"
    }
   ],
   "source": [
    "plt.figure(figsize=(12, 8))\n",
    "\n",
    "plt.scatter(covid_data['vaccinated_cases'], \n",
    "            covid_data['vaccinated_deaths'], color='aqua')\n",
    "\n",
    "plt.title('Vaccinated Cases vs. Vaccinated Deaths')\n",
    "\n",
    "plt.xlabel('Vaccinated Population')\n",
    "plt.ylabel('Vaccinated Deaths (by 100,000)')\n",
    "\n",
    "plt.show()"
   ]
  },
  {
   "cell_type": "markdown",
   "id": "de40aff1",
   "metadata": {},
   "source": [
    "_For these two columns, the correlation coefficient is 0.3154485 which is a weak, positive correlation. The p-value for these two columns was 1.5879e-09 which is a small p-value suggesting statistical significance._\n",
    "<br>\n",
    "<br>\n",
    "_Now let's take a look at regression models for this dataset. Since vaccinated cases and vaccinated hospitalizations had the highest correlation coefficient, we will continue to build regression models for these two columns. Regression model building is in the **Regression Using Pandas** notebook in this project file._"
   ]
  },
  {
   "cell_type": "code",
   "execution_count": null,
   "id": "617ce1ff",
   "metadata": {},
   "outputs": [],
   "source": []
  }
 ],
 "metadata": {
  "kernelspec": {
   "display_name": "Python 3 (ipykernel)",
   "language": "python",
   "name": "python3"
  },
  "language_info": {
   "codemirror_mode": {
    "name": "ipython",
    "version": 3
   },
   "file_extension": ".py",
   "mimetype": "text/x-python",
   "name": "python",
   "nbconvert_exporter": "python",
   "pygments_lexer": "ipython3",
   "version": "3.10.1"
  }
 },
 "nbformat": 4,
 "nbformat_minor": 5
}
